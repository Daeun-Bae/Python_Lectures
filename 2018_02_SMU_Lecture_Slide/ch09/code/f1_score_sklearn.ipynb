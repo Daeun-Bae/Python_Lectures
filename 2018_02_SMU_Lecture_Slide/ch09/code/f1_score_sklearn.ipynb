{
 "cells": [
  {
   "cell_type": "markdown",
   "metadata": {},
   "source": [
    "## Python 3.x Version"
   ]
  },
  {
   "cell_type": "markdown",
   "metadata": {},
   "source": [
    "### F1 Score"
   ]
  },
  {
   "cell_type": "code",
   "execution_count": 16,
   "metadata": {},
   "outputs": [
    {
     "name": "stdout",
     "output_type": "stream",
     "text": [
      "accuracy_score : 75.00%\n",
      "precision_score : 100.00%\n",
      "recall_score : 50.00%\n",
      "f1_score : 66.67%\n",
      "fbeta_score : 0.83%\n",
      "fbeta_score : 0.67%\n",
      "fbeta_score : 0.56%\n"
     ]
    }
   ],
   "source": [
    "from sklearn import metrics\n",
    "# Prediction\n",
    "y_pred = [0, 1, 0, 0]\n",
    "# True\n",
    "y_true = [0, 1, 0, 1]\n",
    "print(\"accuracy_score : {0:.2f}%\".format(metrics.accuracy_score(y_true, y_pred)*100))\n",
    "\n",
    "print(\"precision_score : {0:.2f}%\".format(metrics.precision_score(y_true, y_pred)*100))\n",
    "# 1.0\n",
    "print(\"recall_score : {0:.2f}%\".format(metrics.recall_score(y_true, y_pred)*100))\n",
    "# 0.5\n",
    "print(\"f1_score : {0:.2f}%\".format(metrics.f1_score(y_true, y_pred)*100))  \n",
    "# 0.66...\n",
    "print(\"fbeta_score : {0:.2f}%\".format(metrics.fbeta_score(y_true, y_pred, beta=0.5)))\n",
    "# 0.83...\n",
    "print(\"fbeta_score : {0:.2f}%\".format(metrics.fbeta_score(y_true, y_pred, beta=1)))\n",
    "# 0.66...\n",
    "print(\"fbeta_score : {0:.2f}%\".format(metrics.fbeta_score(y_true, y_pred, beta=2)))\n",
    "# 0.55..."
   ]
  },
  {
   "cell_type": "markdown",
   "metadata": {},
   "source": [
    "### K-fold Validation [[2]](https://machinelearningmastery.com/k-fold-cross-validation/)"
   ]
  },
  {
   "cell_type": "code",
   "execution_count": 51,
   "metadata": {},
   "outputs": [
    {
     "name": "stdout",
     "output_type": "stream",
     "text": [
      "train: [0.1 0.2 0.4 0.5 0.6 0.7], test: [0.3 0.8]\n",
      "train: [0.1 0.3 0.4 0.5 0.6 0.8], test: [0.2 0.7]\n",
      "train: [0.2 0.3 0.4 0.6 0.7 0.8], test: [0.1 0.5]\n",
      "train: [0.1 0.2 0.3 0.5 0.7 0.8], test: [0.4 0.6]\n"
     ]
    }
   ],
   "source": [
    "# scikit-learn k-fold cross-validation\n",
    "from numpy import array\n",
    "from sklearn.model_selection import KFold\n",
    "# data sample\n",
    "data = array([0.1, 0.2, 0.3, 0.4, 0.5, 0.6, 0.7, 0.8])\n",
    "# prepare cross validation\n",
    "k = 4\n",
    "shuffles = True\n",
    "random_seed = 1\n",
    "kfold = KFold(k, shuffles, random_seed)\n",
    "# enumerate splits\n",
    "for train, test in kfold.split(data):\n",
    "    print('train: %s, test: %s' % (data[train], data[test]))"
   ]
  }
 ],
 "metadata": {
  "kernelspec": {
   "display_name": "Python 3",
   "language": "python",
   "name": "python3"
  },
  "language_info": {
   "codemirror_mode": {
    "name": "ipython",
    "version": 3
   },
   "file_extension": ".py",
   "mimetype": "text/x-python",
   "name": "python",
   "nbconvert_exporter": "python",
   "pygments_lexer": "ipython3",
   "version": "3.6.5"
  }
 },
 "nbformat": 4,
 "nbformat_minor": 2
}
