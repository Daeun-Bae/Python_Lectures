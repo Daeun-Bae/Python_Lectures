{
 "cells": [
  {
   "cell_type": "code",
   "execution_count": 13,
   "metadata": {},
   "outputs": [],
   "source": [
    "from random import shuffle\n",
    "\n",
    "teams = [1,2,3,4,5,6,7,8]\n",
    "iter_unit = 4\n",
    "date_of_presentation = [\"12/18\", \"12/21\"]"
   ]
  },
  {
   "cell_type": "code",
   "execution_count": 22,
   "metadata": {},
   "outputs": [
    {
     "name": "stdout",
     "output_type": "stream",
     "text": [
      "12/18 : [2, 4, 5, 6]\n",
      "12/21 : [3, 8, 1, 7]\n"
     ]
    }
   ],
   "source": [
    "shuffle(teams)\n",
    "print (date_of_presentation[0] + \" : \" + str(teams[0:4]))\n",
    "print (date_of_presentation[1] + \" : \" + str(teams[4:8]))"
   ]
  }
 ],
 "metadata": {
  "kernelspec": {
   "display_name": "Python 3",
   "language": "python",
   "name": "python3"
  },
  "language_info": {
   "codemirror_mode": {
    "name": "ipython",
    "version": 3
   },
   "file_extension": ".py",
   "mimetype": "text/x-python",
   "name": "python",
   "nbconvert_exporter": "python",
   "pygments_lexer": "ipython3",
   "version": "3.6.5"
  }
 },
 "nbformat": 4,
 "nbformat_minor": 2
}
